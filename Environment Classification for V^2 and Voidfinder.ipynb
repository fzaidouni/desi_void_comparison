{
 "cells": [
  {
   "cell_type": "code",
   "execution_count": 1,
   "metadata": {},
   "outputs": [],
   "source": [
    "from astropy.table import Table\n",
    "import numpy as np\n",
    "import matplotlib.pyplot as plt\n",
    "from astropy.io import ascii"
   ]
  },
  {
   "cell_type": "markdown",
   "metadata": {},
   "source": [
    "#### Miscellaneous functions"
   ]
  },
  {
   "cell_type": "code",
   "execution_count": 2,
   "metadata": {},
   "outputs": [],
   "source": [
    "def flatten(array): # when np.flatten() doesn't work\n",
    "    temp = []\n",
    "    for sublist in array:\n",
    "        for item in sublist:\n",
    "            temp.append(item)\n",
    "    return np.array(temp)\n",
    "  \n",
    "def rmv(array,out): # removing galaxies in \"out\" from galaxies in \"array\"\n",
    "    test_out =[] \n",
    "    for i in array:\n",
    "        if i in out:\n",
    "            test_out.append(False)\n",
    "        else:\n",
    "            test_out.append(True)\n",
    "           \n",
    "    return np.array(array)[test_out]\n"
   ]
  },
  {
   "cell_type": "code",
   "execution_count": 3,
   "metadata": {},
   "outputs": [],
   "source": [
    "data = Table.read('data_all.txt', format = 'ascii')\n"
   ]
  },
  {
   "cell_type": "code",
   "execution_count": 4,
   "metadata": {},
   "outputs": [
    {
     "data": {
      "text/html": [
       "<i>Table length=707817</i>\n",
       "<table id=\"table47398672943536\" class=\"table-striped table-bordered table-condensed\">\n",
       "<thead><tr><th>index</th><th>ra</th><th>dec</th><th>redshift</th><th>Rgal</th><th>rabsmag</th><th>u_r</th><th>imc</th><th>aimc</th><th>cd</th><th>conx1</th><th>prmag</th><th>epetR</th><th>epetRc</th><th>iso_a</th><th>iso_b</th><th>abtrue</th><th>phi_iso_deg</th><th>vdisp</th><th>vdisperr</th><th>snmedian</th><th>rdev</th><th>ab_dev</th><th>rexp</th><th>ab_exp</th><th>mflag</th><th>mr</th><th>g_r</th><th>Ez</th><th>vflag</th><th>plate</th><th>MJD</th><th>fiberID</th><th>MPA_index</th><th>Mstar</th><th>BPTclass</th><th>flag3727</th><th>Z12logOH</th><th>Zerr</th><th>t3</th><th>N12logNH</th><th>NHerr</th><th>logNO</th><th>NOerr</th><th>sSFR</th><th>SFR</th><th>NUV_r</th><th>u_r_NSA</th><th>g_r_NSA</th><th>rabsmag_NSA</th><th>Mstar_NSA</th><th>Ne12logNeH</th><th>NeHerr</th><th>logNeO</th><th>NeOerr</th></tr></thead>\n",
       "<thead><tr><th>float64</th><th>float64</th><th>float64</th><th>float64</th><th>float64</th><th>float64</th><th>float64</th><th>float64</th><th>float64</th><th>float64</th><th>float64</th><th>float64</th><th>float64</th><th>float64</th><th>float64</th><th>float64</th><th>float64</th><th>float64</th><th>float64</th><th>float64</th><th>float64</th><th>float64</th><th>float64</th><th>float64</th><th>float64</th><th>float64</th><th>float64</th><th>float64</th><th>float64</th><th>int64</th><th>int64</th><th>int64</th><th>int64</th><th>int64</th><th>float64</th><th>float64</th><th>float64</th><th>float64</th><th>float64</th><th>float64</th><th>float64</th><th>float64</th><th>float64</th><th>float64</th><th>float64</th><th>float64</th><th>float64</th><th>float64</th><th>float64</th><th>float64</th><th>float64</th><th>float64</th><th>float64</th><th>float64</th><th>float64</th></tr></thead>\n",
       "<tr><td>749.0</td><td>38.049133</td><td>0.224026</td><td>0.054022</td><td>160.22</td><td>-20.101</td><td>2.755</td><td>1.0</td><td>1.0</td><td>-0.047</td><td>0.283</td><td>15.939</td><td>8.5</td><td>8.413</td><td>16.21</td><td>11.82</td><td>0.73</td><td>-80.52</td><td>223.27</td><td>6.29</td><td>33.68</td><td>2.434</td><td>0.807</td><td>1.536</td><td>0.833</td><td>0.0</td><td>16.139</td><td>0.952</td><td>160.223458454</td><td>9</td><td>407</td><td>51820</td><td>513</td><td>70459</td><td>10.55196475982666</td><td>5.0</td><td>nan</td><td>nan</td><td>nan</td><td>nan</td><td>nan</td><td>nan</td><td>nan</td><td>nan</td><td>-11.68909740447998</td><td>-1.0694656372070312</td><td>5.886381035385732</td><td>2.5909545388571527</td><td>0.8840782662723994</td><td>-20.536251068115234</td><td>22597765120.0</td><td>nan</td><td>nan</td><td>nan</td><td>nan</td></tr>\n",
       "<tr><td>750.0</td><td>38.352528</td><td>0.212491</td><td>0.053818</td><td>159.62</td><td>-19.256</td><td>2.565</td><td>1.0</td><td>1.0</td><td>-0.02</td><td>0.365</td><td>16.786</td><td>5.89</td><td>5.848</td><td>8.51</td><td>7.74</td><td>0.91</td><td>-8.39</td><td>67.03</td><td>5.59</td><td>21.47</td><td>2.485</td><td>0.887</td><td>1.788</td><td>0.827</td><td>0.0</td><td>16.837</td><td>0.871</td><td>159.625013119</td><td>9</td><td>407</td><td>51820</td><td>594</td><td>70517</td><td>10.169575691223145</td><td>3.0</td><td>nan</td><td>nan</td><td>nan</td><td>nan</td><td>nan</td><td>nan</td><td>nan</td><td>nan</td><td>-11.156432151794434</td><td>-0.9351850748062134</td><td>inf</td><td>2.2251583317081285</td><td>0.7622379303778964</td><td>-19.708415985107422</td><td>10089863168.0</td><td>nan</td><td>nan</td><td>nan</td><td>nan</td></tr>\n",
       "<tr><td>751.0</td><td>38.363598</td><td>0.210654</td><td>0.05405</td><td>160.31</td><td>-20.959</td><td>2.495</td><td>2.0</td><td>25.88</td><td>-0.297</td><td>0.417</td><td>15.09</td><td>13.78</td><td>13.704</td><td>25.21</td><td>10.3</td><td>0.41</td><td>-75.63</td><td>137.34</td><td>5.46</td><td>26.55</td><td>10.349</td><td>0.407</td><td>6.239</td><td>0.386</td><td>0.0</td><td>15.309</td><td>0.877</td><td>160.305594057</td><td>9</td><td>408</td><td>51821</td><td>351</td><td>70759</td><td>10.911660194396973</td><td>4.0</td><td>nan</td><td>nan</td><td>nan</td><td>nan</td><td>nan</td><td>nan</td><td>nan</td><td>nan</td><td>-10.782448768615723</td><td>0.17625018954277039</td><td>inf</td><td>2.1127458441288782</td><td>0.7120395549037929</td><td>-21.317277908325195</td><td>45481709568.0</td><td>nan</td><td>nan</td><td>nan</td><td>nan</td></tr>\n",
       "<tr><td>761.0</td><td>54.936817</td><td>0.216794</td><td>0.201277</td><td>578.63</td><td>-21.711</td><td>2.88</td><td>1.0</td><td>1.0</td><td>0.034</td><td>0.323</td><td>17.361</td><td>5.02</td><td>4.906</td><td>8.83</td><td>7.48</td><td>0.85</td><td>-67.96</td><td>245.02</td><td>13.84</td><td>13.57</td><td>2.21</td><td>0.811</td><td>1.248</td><td>0.836</td><td>0.0</td><td>17.265</td><td>1.0</td><td>578.633830879</td><td>9</td><td>416</td><td>51811</td><td>472</td><td>78846</td><td>11.36347484588623</td><td>-1.0</td><td>nan</td><td>nan</td><td>nan</td><td>nan</td><td>nan</td><td>nan</td><td>nan</td><td>nan</td><td>-11.924013137817383</td><td>-0.517741858959198</td><td>nan</td><td>nan</td><td>nan</td><td>nan</td><td>nan</td><td>nan</td><td>nan</td><td>nan</td><td>nan</td></tr>\n",
       "<tr><td>1009.0</td><td>54.534882</td><td>0.578615</td><td>0.128955</td><td>376.57</td><td>-20.604</td><td>2.767</td><td>1.0</td><td>1.0</td><td>-0.05</td><td>0.281</td><td>17.415</td><td>4.45</td><td>4.304</td><td>8.88</td><td>6.56</td><td>0.73</td><td>69.88</td><td>197.05</td><td>10.07</td><td>15.48</td><td>1.449</td><td>0.855</td><td>1.195</td><td>0.866</td><td>0.0</td><td>17.402</td><td>0.963</td><td>376.56649592</td><td>9</td><td>416</td><td>51811</td><td>385</td><td>78791</td><td>10.833581924438477</td><td>-1.0</td><td>nan</td><td>nan</td><td>nan</td><td>nan</td><td>nan</td><td>nan</td><td>nan</td><td>nan</td><td>-11.989643096923828</td><td>-1.1046427488327026</td><td>nan</td><td>nan</td><td>nan</td><td>nan</td><td>nan</td><td>nan</td><td>nan</td><td>nan</td><td>nan</td></tr>\n",
       "<tr><td>1029.0</td><td>54.743076</td><td>0.508774</td><td>0.183435</td><td>529.41</td><td>-21.392</td><td>2.576</td><td>1.0</td><td>1.0</td><td>-0.026</td><td>0.313</td><td>17.453</td><td>4.11</td><td>3.951</td><td>8.53</td><td>7.38</td><td>0.86</td><td>76.4</td><td>232.49</td><td>13.07</td><td>13.31</td><td>1.669</td><td>1.0</td><td>0.988</td><td>0.984</td><td>0.0</td><td>17.427</td><td>0.994</td><td>529.408941519</td><td>9</td><td>416</td><td>51811</td><td>423</td><td>78820</td><td>11.235125541687012</td><td>-1.0</td><td>nan</td><td>nan</td><td>nan</td><td>nan</td><td>nan</td><td>nan</td><td>nan</td><td>nan</td><td>-11.931730270385742</td><td>-0.6697368025779724</td><td>nan</td><td>nan</td><td>nan</td><td>nan</td><td>nan</td><td>nan</td><td>nan</td><td>nan</td><td>nan</td></tr>\n",
       "<tr><td>1037.0</td><td>54.867241</td><td>0.562636</td><td>0.139661</td><td>406.9</td><td>-20.776</td><td>2.936</td><td>1.0</td><td>1.0</td><td>-0.127</td><td>0.325</td><td>17.42</td><td>7.25</td><td>7.201</td><td>9.66</td><td>7.36</td><td>0.76</td><td>-1.13</td><td>173.33</td><td>14.65</td><td>11.04</td><td>2.552</td><td>0.633</td><td>1.299</td><td>0.664</td><td>0.0</td><td>17.464</td><td>0.925</td><td>406.901440565</td><td>9</td><td>416</td><td>51811</td><td>422</td><td>78819</td><td>10.913909912109375</td><td>2.0</td><td>nan</td><td>nan</td><td>nan</td><td>nan</td><td>nan</td><td>nan</td><td>nan</td><td>nan</td><td>-10.952052116394043</td><td>0.012539233081042767</td><td>nan</td><td>nan</td><td>nan</td><td>nan</td><td>nan</td><td>nan</td><td>nan</td><td>nan</td><td>nan</td></tr>\n",
       "<tr><td>1041.0</td><td>54.856907</td><td>0.544031</td><td>0.139478</td><td>406.38</td><td>-20.961</td><td>2.775</td><td>1.0</td><td>1.0</td><td>-0.147</td><td>0.358</td><td>17.234</td><td>6.42</td><td>6.342</td><td>9.21</td><td>6.75</td><td>0.73</td><td>82.33</td><td>165.2</td><td>13.54</td><td>11.82</td><td>3.384</td><td>0.8</td><td>1.634</td><td>0.838</td><td>0.0</td><td>17.123</td><td>0.954</td><td>406.384142499</td><td>9</td><td>416</td><td>51811</td><td>428</td><td>78822</td><td>11.011194229125977</td><td>-1.0</td><td>nan</td><td>nan</td><td>nan</td><td>nan</td><td>nan</td><td>nan</td><td>nan</td><td>nan</td><td>-11.529818534851074</td><td>-0.47579777240753174</td><td>nan</td><td>nan</td><td>nan</td><td>nan</td><td>nan</td><td>nan</td><td>nan</td><td>nan</td><td>nan</td></tr>\n",
       "<tr><td>1048.0</td><td>54.977749</td><td>0.501912</td><td>0.139322</td><td>405.94</td><td>-20.943</td><td>2.223</td><td>2.0</td><td>25.78</td><td>-0.163</td><td>0.43</td><td>17.242</td><td>4.97</td><td>4.768</td><td>7.5</td><td>5.4</td><td>0.71</td><td>-10.86</td><td>133.73</td><td>10.1</td><td>13.41</td><td>3.845</td><td>0.68</td><td>2.005</td><td>0.704</td><td>0.0</td><td>17.385</td><td>0.749</td><td>405.943133443</td><td>9</td><td>416</td><td>51811</td><td>469</td><td>78845</td><td>10.933839797973633</td><td>2.0</td><td>nan</td><td>nan</td><td>nan</td><td>nan</td><td>nan</td><td>nan</td><td>nan</td><td>nan</td><td>-10.561537742614746</td><td>0.41920748353004456</td><td>nan</td><td>nan</td><td>nan</td><td>nan</td><td>nan</td><td>nan</td><td>nan</td><td>nan</td><td>nan</td></tr>\n",
       "<tr><td>1049.0</td><td>54.992764</td><td>0.460376</td><td>0.127314</td><td>371.9</td><td>-20.776</td><td>1.968</td><td>2.0</td><td>38.77</td><td>-0.243</td><td>0.479</td><td>17.186</td><td>7.2</td><td>7.141</td><td>9.19</td><td>5.99</td><td>0.65</td><td>54.25</td><td>105.81</td><td>15.34</td><td>8.83</td><td>10.14</td><td>0.458</td><td>3.974</td><td>0.462</td><td>0.0</td><td>17.283</td><td>0.637</td><td>371.903945887</td><td>9</td><td>416</td><td>51811</td><td>465</td><td>78841</td><td>10.66324234008789</td><td>2.0</td><td>nan</td><td>nan</td><td>nan</td><td>nan</td><td>nan</td><td>nan</td><td>nan</td><td>nan</td><td>-10.10947036743164</td><td>0.6032572388648987</td><td>nan</td><td>nan</td><td>nan</td><td>nan</td><td>nan</td><td>nan</td><td>nan</td><td>nan</td><td>nan</td></tr>\n",
       "<tr><td>...</td><td>...</td><td>...</td><td>...</td><td>...</td><td>...</td><td>...</td><td>...</td><td>...</td><td>...</td><td>...</td><td>...</td><td>...</td><td>...</td><td>...</td><td>...</td><td>...</td><td>...</td><td>...</td><td>...</td><td>...</td><td>...</td><td>...</td><td>...</td><td>...</td><td>...</td><td>...</td><td>...</td><td>...</td><td>...</td><td>...</td><td>...</td><td>...</td><td>...</td><td>...</td><td>...</td><td>...</td><td>...</td><td>...</td><td>...</td><td>...</td><td>...</td><td>...</td><td>...</td><td>...</td><td>...</td><td>...</td><td>...</td><td>...</td><td>...</td><td>...</td><td>...</td><td>...</td><td>...</td><td>...</td></tr>\n",
       "<tr><td>2506596.0</td><td>161.074173</td><td>9.1531</td><td>0.117032</td><td>342.61</td><td>-20.058</td><td>2.838</td><td>2.0</td><td>17.89</td><td>-0.219</td><td>0.301</td><td>17.732</td><td>3.57</td><td>3.31</td><td>8.15</td><td>4.91</td><td>0.59</td><td>85.23</td><td>156.05</td><td>10.15</td><td>13.95</td><td>1.434</td><td>0.523</td><td>0.976</td><td>0.569</td><td>0.0</td><td>17.755</td><td>0.928</td><td>342.612325535</td><td>9</td><td>2147</td><td>53491</td><td>461</td><td>747464</td><td>10.64161205291748</td><td>-1.0</td><td>nan</td><td>nan</td><td>nan</td><td>nan</td><td>nan</td><td>nan</td><td>nan</td><td>nan</td><td>-11.650973320007324</td><td>-0.9632449150085449</td><td>nan</td><td>nan</td><td>nan</td><td>nan</td><td>nan</td><td>nan</td><td>nan</td><td>nan</td><td>nan</td></tr>\n",
       "<tr><td>2506612.0</td><td>162.237885</td><td>9.038177</td><td>0.223693</td><td>639.89</td><td>-21.465</td><td>1.637</td><td>2.0</td><td>57.98</td><td>-0.219</td><td>0.435</td><td>17.687</td><td>4.55</td><td>4.468</td><td>6.57</td><td>6.0</td><td>0.91</td><td>-1.52</td><td>70.01</td><td>12.27</td><td>11.02</td><td>4.09</td><td>0.813</td><td>1.96</td><td>0.83</td><td>0.0</td><td>17.791</td><td>0.497</td><td>639.891987088</td><td>9</td><td>2885</td><td>54497</td><td>271</td><td>919235</td><td>nan</td><td>2.0</td><td>nan</td><td>nan</td><td>nan</td><td>nan</td><td>nan</td><td>nan</td><td>nan</td><td>nan</td><td>-10.299031257629395</td><td>0.7355872988700867</td><td>nan</td><td>nan</td><td>nan</td><td>nan</td><td>nan</td><td>nan</td><td>nan</td><td>nan</td><td>nan</td></tr>\n",
       "<tr><td>2506621.0</td><td>162.390198</td><td>9.100553</td><td>0.093404</td><td>274.8</td><td>-19.636</td><td>2.048</td><td>2.0</td><td>25.42</td><td>-0.073</td><td>0.519</td><td>17.641</td><td>4.57</td><td>4.508</td><td>6.0</td><td>4.44</td><td>0.74</td><td>-63.22</td><td>76.67</td><td>12.39</td><td>12.56</td><td>5.13</td><td>0.623</td><td>2.241</td><td>0.697</td><td>0.0</td><td>17.695</td><td>0.656</td><td>274.796435759</td><td>1</td><td>2885</td><td>54497</td><td>279</td><td>919237</td><td>nan</td><td>1.0</td><td>nan</td><td>nan</td><td>nan</td><td>nan</td><td>nan</td><td>nan</td><td>nan</td><td>nan</td><td>-10.504497528076172</td><td>-0.3066772520542145</td><td>nan</td><td>nan</td><td>nan</td><td>nan</td><td>nan</td><td>nan</td><td>nan</td><td>nan</td><td>nan</td></tr>\n",
       "<tr><td>2506628.0</td><td>162.569199</td><td>9.083282</td><td>0.08493</td><td>250.3</td><td>-19.42</td><td>1.608</td><td>2.0</td><td>57.53</td><td>-0.165</td><td>0.464</td><td>17.647</td><td>7.28</td><td>7.077</td><td>10.08</td><td>3.83</td><td>0.37</td><td>12.49</td><td>16.69</td><td>36.53</td><td>9.37</td><td>6.373</td><td>0.255</td><td>3.796</td><td>0.25</td><td>0.0</td><td>17.833</td><td>0.482</td><td>250.304923453</td><td>0</td><td>2885</td><td>54497</td><td>224</td><td>919208</td><td>nan</td><td>1.0</td><td>nan</td><td>nan</td><td>nan</td><td>nan</td><td>nan</td><td>nan</td><td>nan</td><td>nan</td><td>-10.765581130981445</td><td>-0.6194282174110413</td><td>nan</td><td>nan</td><td>nan</td><td>nan</td><td>nan</td><td>nan</td><td>nan</td><td>nan</td><td>nan</td></tr>\n",
       "<tr><td>2506673.0</td><td>162.339645</td><td>9.471082</td><td>0.087511</td><td>257.77</td><td>-19.369</td><td>2.963</td><td>1.0</td><td>1.0</td><td>-0.021</td><td>0.369</td><td>17.759</td><td>4.97</td><td>4.652</td><td>8.48</td><td>3.68</td><td>0.42</td><td>-14.01</td><td>130.24</td><td>7.96</td><td>14.53</td><td>1.895</td><td>0.446</td><td>1.289</td><td>0.492</td><td>0.0</td><td>17.748</td><td>0.908</td><td>257.773965061</td><td>0</td><td>2886</td><td>54498</td><td>346</td><td>919725</td><td>nan</td><td>-1.0</td><td>nan</td><td>nan</td><td>nan</td><td>nan</td><td>nan</td><td>nan</td><td>nan</td><td>nan</td><td>-12.123958587646484</td><td>-2.1483330726623535</td><td>nan</td><td>nan</td><td>nan</td><td>nan</td><td>nan</td><td>nan</td><td>nan</td><td>nan</td><td>nan</td></tr>\n",
       "<tr><td>2506675.0</td><td>162.360977</td><td>9.455546</td><td>0.087591</td><td>258.0</td><td>-19.528</td><td>2.784</td><td>1.0</td><td>1.0</td><td>-0.167</td><td>0.294</td><td>17.6</td><td>3.34</td><td>2.995</td><td>10.76</td><td>4.72</td><td>0.42</td><td>-44.47</td><td>149.86</td><td>7.53</td><td>19.12</td><td>0.751</td><td>0.616</td><td>0.642</td><td>0.659</td><td>0.0</td><td>17.679</td><td>0.91</td><td>258.005341418</td><td>0</td><td>2886</td><td>54498</td><td>342</td><td>919721</td><td>nan</td><td>-1.0</td><td>nan</td><td>nan</td><td>nan</td><td>nan</td><td>nan</td><td>nan</td><td>nan</td><td>nan</td><td>-12.096875190734863</td><td>-2.0399999618530273</td><td>nan</td><td>nan</td><td>nan</td><td>nan</td><td>nan</td><td>nan</td><td>nan</td><td>nan</td><td>nan</td></tr>\n",
       "<tr><td>2506677.0</td><td>162.370041</td><td>9.566092</td><td>0.086226</td><td>254.06</td><td>-19.489</td><td>1.958</td><td>2.0</td><td>33.0</td><td>-0.139</td><td>0.387</td><td>17.61</td><td>3.9</td><td>3.797</td><td>7.06</td><td>6.1</td><td>0.86</td><td>44.63</td><td>102.97</td><td>14.72</td><td>12.37</td><td>2.895</td><td>0.818</td><td>1.777</td><td>0.81</td><td>0.0</td><td>17.79</td><td>0.631</td><td>254.056393625</td><td>0</td><td>2886</td><td>54498</td><td>341</td><td>919720</td><td>nan</td><td>2.0</td><td>nan</td><td>nan</td><td>nan</td><td>nan</td><td>nan</td><td>nan</td><td>nan</td><td>nan</td><td>-10.665740013122559</td><td>-0.5583571195602417</td><td>nan</td><td>nan</td><td>nan</td><td>nan</td><td>nan</td><td>nan</td><td>nan</td><td>nan</td><td>nan</td></tr>\n",
       "<tr><td>2506679.0</td><td>162.449738</td><td>9.591626</td><td>0.165164</td><td>478.57</td><td>-20.904</td><td>2.242</td><td>2.0</td><td>33.73</td><td>-0.34</td><td>0.484</td><td>17.644</td><td>5.72</td><td>5.565</td><td>8.21</td><td>3.71</td><td>0.44</td><td>40.02</td><td>154.99</td><td>11.84</td><td>11.45</td><td>3.747</td><td>0.404</td><td>2.357</td><td>0.428</td><td>0.0</td><td>17.463</td><td>0.792</td><td>478.574158008</td><td>9</td><td>2885</td><td>54497</td><td>423</td><td>919328</td><td>nan</td><td>4.0</td><td>nan</td><td>nan</td><td>nan</td><td>nan</td><td>nan</td><td>nan</td><td>nan</td><td>nan</td><td>-11.661538124084473</td><td>-0.7833890914916992</td><td>nan</td><td>nan</td><td>nan</td><td>nan</td><td>nan</td><td>nan</td><td>nan</td><td>nan</td><td>nan</td></tr>\n",
       "<tr><td>2506684.0</td><td>162.51091</td><td>9.478485</td><td>0.148964</td><td>433.14</td><td>-20.608</td><td>2.764</td><td>1.0</td><td>1.0</td><td>-0.124</td><td>0.378</td><td>17.735</td><td>5.06</td><td>4.934</td><td>8.19</td><td>3.7</td><td>0.44</td><td>-20.86</td><td>165.05</td><td>11.6</td><td>13.04</td><td>2.191</td><td>0.562</td><td>1.44</td><td>0.611</td><td>0.0</td><td>17.584</td><td>0.899</td><td>433.142605929</td><td>9</td><td>2885</td><td>54497</td><td>430</td><td>919332</td><td>nan</td><td>2.0</td><td>nan</td><td>nan</td><td>nan</td><td>nan</td><td>nan</td><td>nan</td><td>nan</td><td>nan</td><td>-10.763533592224121</td><td>-0.23095230758190155</td><td>nan</td><td>nan</td><td>nan</td><td>nan</td><td>nan</td><td>nan</td><td>nan</td><td>nan</td><td>nan</td></tr>\n",
       "<tr><td>2506688.0</td><td>162.523117</td><td>9.520403</td><td>0.086864</td><td>255.9</td><td>-19.441</td><td>2.124</td><td>2.0</td><td>25.62</td><td>-0.113</td><td>0.444</td><td>17.669</td><td>4.7</td><td>4.554</td><td>7.25</td><td>3.93</td><td>0.53</td><td>-0.45</td><td>72.8</td><td>10.89</td><td>12.01</td><td>3.599</td><td>0.427</td><td>2.079</td><td>0.46</td><td>0.0</td><td>17.807</td><td>0.826</td><td>255.902416787</td><td>0</td><td>2885</td><td>54497</td><td>424</td><td>919329</td><td>nan</td><td>2.0</td><td>nan</td><td>nan</td><td>nan</td><td>nan</td><td>nan</td><td>nan</td><td>nan</td><td>nan</td><td>-10.680810928344727</td><td>-0.5819600820541382</td><td>nan</td><td>nan</td><td>nan</td><td>nan</td><td>nan</td><td>nan</td><td>nan</td><td>nan</td><td>nan</td></tr>\n",
       "</table>"
      ],
      "text/plain": [
       "<Table length=707817>\n",
       "  index       ra       dec    redshift ... Ne12logNeH  NeHerr  logNeO  NeOerr\n",
       " float64   float64   float64  float64  ...  float64   float64 float64 float64\n",
       "--------- ---------- -------- -------- ... ---------- ------- ------- -------\n",
       "    749.0  38.049133 0.224026 0.054022 ...        nan     nan     nan     nan\n",
       "    750.0  38.352528 0.212491 0.053818 ...        nan     nan     nan     nan\n",
       "    751.0  38.363598 0.210654  0.05405 ...        nan     nan     nan     nan\n",
       "    761.0  54.936817 0.216794 0.201277 ...        nan     nan     nan     nan\n",
       "   1009.0  54.534882 0.578615 0.128955 ...        nan     nan     nan     nan\n",
       "   1029.0  54.743076 0.508774 0.183435 ...        nan     nan     nan     nan\n",
       "   1037.0  54.867241 0.562636 0.139661 ...        nan     nan     nan     nan\n",
       "   1041.0  54.856907 0.544031 0.139478 ...        nan     nan     nan     nan\n",
       "   1048.0  54.977749 0.501912 0.139322 ...        nan     nan     nan     nan\n",
       "   1049.0  54.992764 0.460376 0.127314 ...        nan     nan     nan     nan\n",
       "      ...        ...      ...      ... ...        ...     ...     ...     ...\n",
       "2506596.0 161.074173   9.1531 0.117032 ...        nan     nan     nan     nan\n",
       "2506612.0 162.237885 9.038177 0.223693 ...        nan     nan     nan     nan\n",
       "2506621.0 162.390198 9.100553 0.093404 ...        nan     nan     nan     nan\n",
       "2506628.0 162.569199 9.083282  0.08493 ...        nan     nan     nan     nan\n",
       "2506673.0 162.339645 9.471082 0.087511 ...        nan     nan     nan     nan\n",
       "2506675.0 162.360977 9.455546 0.087591 ...        nan     nan     nan     nan\n",
       "2506677.0 162.370041 9.566092 0.086226 ...        nan     nan     nan     nan\n",
       "2506679.0 162.449738 9.591626 0.165164 ...        nan     nan     nan     nan\n",
       "2506684.0  162.51091 9.478485 0.148964 ...        nan     nan     nan     nan\n",
       "2506688.0 162.523117 9.520403 0.086864 ...        nan     nan     nan     nan"
      ]
     },
     "execution_count": 4,
     "metadata": {},
     "output_type": "execute_result"
    }
   ],
   "source": [
    "data"
   ]
  },
  {
   "cell_type": "markdown",
   "metadata": {},
   "source": [
    "### V^2 classification"
   ]
  },
  {
   "cell_type": "code",
   "execution_count": 5,
   "metadata": {},
   "outputs": [],
   "source": [
    "galzones = Table.read('DR7_galzones.dat', format = 'ascii') \n",
    "zonevoids = Table.read('DR7_zonevoids.dat', format = 'ascii')\n",
    "total_glx = len(galzones)"
   ]
  },
  {
   "cell_type": "code",
   "execution_count": 6,
   "metadata": {},
   "outputs": [
    {
     "name": "stdout",
     "output_type": "stream",
     "text": [
      "707817\n"
     ]
    }
   ],
   "source": [
    "print(total_glx)"
   ]
  },
  {
   "cell_type": "code",
   "execution_count": 7,
   "metadata": {},
   "outputs": [
    {
     "name": "stdout",
     "output_type": "stream",
     "text": [
      "707817\n"
     ]
    }
   ],
   "source": [
    "print(len(data))"
   ]
  },
  {
   "cell_type": "markdown",
   "metadata": {},
   "source": [
    "#### edge and outside galaxies"
   ]
  },
  {
   "cell_type": "code",
   "execution_count": 35,
   "metadata": {},
   "outputs": [],
   "source": [
    "edge_bool = [bool(x) for x in np.array(np.array(galzones['edge']))] \n",
    "edge_gal = np.array(galzones['gal'][edge_bool])"
   ]
  },
  {
   "cell_type": "code",
   "execution_count": 36,
   "metadata": {},
   "outputs": [],
   "source": [
    "out_bool = [bool(x) for x in np.array(np.array(galzones['out']))]\n",
    "out_gal = np.array(galzones['gal'][out_bool])"
   ]
  },
  {
   "cell_type": "markdown",
   "metadata": {},
   "source": [
    "#### void galaxies"
   ]
  },
  {
   "cell_type": "code",
   "execution_count": 37,
   "metadata": {},
   "outputs": [],
   "source": [
    "void_zones = zonevoids[(zonevoids['void0'] != -1) & (zonevoids['void1'] != -1)]['zone'] # zones that are in voids"
   ]
  },
  {
   "cell_type": "code",
   "execution_count": 38,
   "metadata": {},
   "outputs": [],
   "source": [
    "void_gal_ = []\n",
    "for i in void_zones:\n",
    "    void_gal_.append(list(galzones['gal'][galzones['zone'] == i]))\n",
    "\n",
    "void_gal_flat = flatten(void_gal_) # around 200,000 are void galaxies"
   ]
  },
  {
   "cell_type": "markdown",
   "metadata": {},
   "source": [
    "#### no outside galaxies within voids but  there are edge galaxies within voids"
   ]
  },
  {
   "cell_type": "code",
   "execution_count": 39,
   "metadata": {},
   "outputs": [],
   "source": [
    "void_gal = rmv(void_gal_flat,edge_gal) # eliminating edge galazies, True for non edge, about 8000"
   ]
  },
  {
   "cell_type": "code",
   "execution_count": 40,
   "metadata": {},
   "outputs": [],
   "source": [
    "void_gal = rmv(void_gal,out_gal)"
   ]
  },
  {
   "cell_type": "markdown",
   "metadata": {},
   "source": [
    "#### wall galaxies"
   ]
  },
  {
   "cell_type": "code",
   "execution_count": 41,
   "metadata": {},
   "outputs": [],
   "source": [
    "non_void_zones = zonevoids[(zonevoids['void0'] == -1)]['zone'] # zones that are not in voids\n",
    "\n",
    "non_void_gal = []\n",
    "for i in non_void_zones:\n",
    "    non_void_gal.append(list(galzones['gal'][galzones['zone'] == i]))\n",
    "        \n",
    "wall_gal = rmv(flatten(non_void_gal),edge_gal)"
   ]
  },
  {
   "cell_type": "code",
   "execution_count": 42,
   "metadata": {},
   "outputs": [],
   "source": [
    "wall_gal = rmv(wall_gal,out_gal)"
   ]
  },
  {
   "cell_type": "markdown",
   "metadata": {},
   "source": [
    "### Check"
   ]
  },
  {
   "cell_type": "code",
   "execution_count": 43,
   "metadata": {},
   "outputs": [
    {
     "data": {
      "text/plain": [
       "(707817, 707817)"
      ]
     },
     "execution_count": 43,
     "metadata": {},
     "output_type": "execute_result"
    }
   ],
   "source": [
    "len(wall_gal)+len(void_gal)+len(edge_gal)+len(out_gal), total_glx"
   ]
  },
  {
   "cell_type": "markdown",
   "metadata": {},
   "source": [
    "### Voidfinder classification"
   ]
  },
  {
   "cell_type": "code",
   "execution_count": 44,
   "metadata": {},
   "outputs": [],
   "source": [
    "data_voidfinder = Table.read('ALL_vflag_comoving.txt', format = 'ascii')"
   ]
  },
  {
   "cell_type": "code",
   "execution_count": 45,
   "metadata": {},
   "outputs": [],
   "source": [
    "wall_gal_vf = np.argwhere(np.array(data_voidfinder['vflag']) == 0)\n",
    "void_gal_vf = np.argwhere(np.array(data_voidfinder['vflag']) == 1)"
   ]
  },
  {
   "cell_type": "code",
   "execution_count": 46,
   "metadata": {},
   "outputs": [],
   "source": [
    "out_gal_vf = np.argwhere(np.array(data_voidfinder['vflag']) == 9)\n",
    "edge_gal_vf = np.argwhere(np.array(data_voidfinder['vflag']) == 2)"
   ]
  },
  {
   "cell_type": "markdown",
   "metadata": {},
   "source": [
    "### Check"
   ]
  },
  {
   "cell_type": "code",
   "execution_count": 47,
   "metadata": {},
   "outputs": [
    {
     "data": {
      "text/plain": [
       "True"
      ]
     },
     "execution_count": 47,
     "metadata": {},
     "output_type": "execute_result"
    }
   ],
   "source": [
    "len(out_gal_vf)+len(edge_gal_vf)+len(wall_gal_vf)+len(void_gal_vf) == len(data_voidfinder)"
   ]
  },
  {
   "cell_type": "markdown",
   "metadata": {},
   "source": [
    "### add flag columns and save file"
   ]
  },
  {
   "cell_type": "code",
   "execution_count": 48,
   "metadata": {},
   "outputs": [
    {
     "name": "stdout",
     "output_type": "stream",
     "text": [
      "707817 707817 707817\n"
     ]
    }
   ],
   "source": [
    "flag_vsquared=[] # checks all galaxies in each statement as a double check for any overlaps\n",
    "for i in range(len(data)):\n",
    "    if i in wall_gal:\n",
    "        flag_vsquared.append(0)\n",
    "    if i in void_gal:\n",
    "        flag_vsquared.append(1)\n",
    "    if i in edge_gal:\n",
    "        flag_vsquared.append(2)\n",
    "    if i in out_gal:\n",
    "        flag_vsquared.append(9)\n",
    "        \n",
    "flag_vsquared_vf=[]\n",
    "for i in range(len(data)):\n",
    "    if i in wall_gal_vf:\n",
    "        flag_vsquared_vf.append(0)\n",
    "    if i in void_gal_vf:\n",
    "        flag_vsquared_vf.append(1)\n",
    "    if i in edge_gal_vf:\n",
    "        flag_vsquared_vf.append(2)\n",
    "    if i in out_gal_vf:\n",
    "        flag_vsquared_vf.append(9)\n",
    "        \n",
    "print(len(flag_vsquared),len(flag_vsquared_vf), len(data)) #check\n",
    "\n"
   ]
  },
  {
   "cell_type": "code",
   "execution_count": 49,
   "metadata": {},
   "outputs": [],
   "source": [
    "flags_table = Table([flag_vsquared_vf,flag_vsquared], names=('flag_voidfinder', 'flag_vsquared'))\n",
    "\n",
    "data.add_columns(flags_table.columns.values())\n",
    "\n",
    "ascii.write(data, 'data_flags_updated_Aug11.dat')  "
   ]
  },
  {
   "cell_type": "code",
   "execution_count": null,
   "metadata": {},
   "outputs": [],
   "source": []
  }
 ],
 "metadata": {
  "kernelspec": {
   "display_name": "Python 3 (3.6.5)",
   "language": "python",
   "name": "python3"
  },
  "language_info": {
   "codemirror_mode": {
    "name": "ipython",
    "version": 3
   },
   "file_extension": ".py",
   "mimetype": "text/x-python",
   "name": "python",
   "nbconvert_exporter": "python",
   "pygments_lexer": "ipython3",
   "version": "3.6.5"
  },
  "toc": {
   "base_numbering": 1,
   "nav_menu": {},
   "number_sections": true,
   "sideBar": true,
   "skip_h1_title": false,
   "title_cell": "Table of Contents",
   "title_sidebar": "Contents",
   "toc_cell": false,
   "toc_position": {},
   "toc_section_display": true,
   "toc_window_display": false
  }
 },
 "nbformat": 4,
 "nbformat_minor": 4
}
